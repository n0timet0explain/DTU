{
 "cells": [
  {
   "cell_type": "code",
   "execution_count": 2,
   "metadata": {},
   "outputs": [
    {
     "name": "stdout",
     "output_type": "stream",
     "text": [
      "[(20.6756756756757, 0.740000000000000, 0.740000000000000)]\n"
     ]
    }
   ],
   "source": [
    "from sympy import *\n",
    "init_printing()\n",
    "\n",
    "U=19\n",
    "R1=5\n",
    "u=15.3\n",
    "\n",
    "R2,I1,I2  = symbols('R2 I1 I2')\n",
    "\n",
    "equation1 = Eq(U - u, R1 * I1)\n",
    "equation2 = Eq(u, R2 * I2)\n",
    "equation3 = Eq(0,I1-I2)\n",
    "\n",
    "solutions=solve((equation1,equation2,equation3),(R2,I1,I2))\n",
    "\n",
    "\n",
    "print(solutions)"
   ]
  }
 ],
 "metadata": {
  "kernelspec": {
   "display_name": "Python 3",
   "language": "python",
   "name": "python3"
  },
  "language_info": {
   "codemirror_mode": {
    "name": "ipython",
    "version": 3
   },
   "file_extension": ".py",
   "mimetype": "text/x-python",
   "name": "python",
   "nbconvert_exporter": "python",
   "pygments_lexer": "ipython3",
   "version": "3.12.1"
  }
 },
 "nbformat": 4,
 "nbformat_minor": 2
}
